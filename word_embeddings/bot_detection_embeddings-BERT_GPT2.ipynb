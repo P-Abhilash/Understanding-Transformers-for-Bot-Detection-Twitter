{
 "cells": [
  {
   "cell_type": "code",
   "execution_count": 1,
   "metadata": {
    "colab": {
     "base_uri": "https://localhost:8080/",
     "height": 65
    },
    "colab_type": "code",
    "id": "ntVcINGBf0w5",
    "outputId": "8c2ab2c4-6a6d-48e8-fe8b-d7bc981233f0"
   },
   "outputs": [],
   "source": [
    "from tqdm import trange\n",
    "from transformers import GPT2DoubleHeadsModel\n",
    "import torch\n",
    "import torch.nn as nn\n",
    "from transformers import GPT2Tokenizer, BertTokenizer, BertForSequenceClassification, BertModel\n",
    "import numpy as np\n",
    "from torch.nn import CrossEntropyLoss\n",
    "from transformers import AdamW"
   ]
  },
  {
   "cell_type": "code",
   "execution_count": 2,
   "metadata": {
    "colab": {},
    "colab_type": "code",
    "id": "QEv2Oxbff0xQ"
   },
   "outputs": [],
   "source": [
    "device = torch.device(\"cuda\" if torch.cuda.is_available() else \"cpu\")"
   ]
  },
  {
   "cell_type": "markdown",
   "metadata": {
    "colab_type": "text",
    "id": "QLeh7oZgf0xl"
   },
   "source": [
    "## Load Dataset"
   ]
  },
  {
   "cell_type": "code",
   "execution_count": 3,
   "metadata": {
    "colab": {},
    "colab_type": "code",
    "id": "tCsb_Ws2f0x2"
   },
   "outputs": [],
   "source": [
    "import pandas as pd\n",
    "\n",
    "directory = '../data/bot_detection/'\n",
    "train = pd.read_csv(directory + \"train.csv\", header=None)\n",
    "test = pd.read_csv(directory + \"test.csv\", header=None)\n",
    "\n",
    "train = pd.DataFrame({\n",
    "    'id':range(len(train)),\n",
    "    'label':train[0],\n",
    "    'mark':['a']*train.shape[0],\n",
    "    'text': train[1].replace(r'\\n', ' ', regex=True)\n",
    "})\n",
    "\n",
    "test = pd.DataFrame({\n",
    "    'id':range(len(test)),\n",
    "    'label':test[0],\n",
    "    'mark':['a']*test.shape[0],\n",
    "    'text': test[1].replace(r'\\n', ' ', regex=True)\n",
    "})\n",
    "\n",
    "train.columns = [\"index\", \"label\", \"mark\", \"tweet\"]\n",
    "test.columns =  [\"index\", \"label\", \"mark\", \"tweet\"]"
   ]
  },
  {
   "cell_type": "markdown",
   "metadata": {
    "colab_type": "text",
    "id": "6jv16Jcff0yI"
   },
   "source": [
    "## Preprocessing"
   ]
  },
  {
   "cell_type": "code",
   "execution_count": 4,
   "metadata": {
    "colab": {},
    "colab_type": "code",
    "id": "cK-16ztmf0yO"
   },
   "outputs": [],
   "source": [
    "model_name = \"BERT\"\n",
    "\n",
    "if model_name == \"BERT\":\n",
    "    train_sentences = train.tweet.values\n",
    "    train_sentences = [\"[CLS] \" + sentence + \" [SEP]\" for sentence in train_sentences]\n",
    "    train_labels = train.label.values\n",
    "\n",
    "    test_sentences = test.tweet.values\n",
    "    test_sentences = [\"[CLS] \" + sentence + \" [SEP]\" for sentence in test_sentences]\n",
    "    test_labels = test.label.values\n",
    "\n",
    "elif model_name == \"gpt2\":\n",
    "    train_sentences = train.tweet.values\n",
    "    train_labels = train.label.values\n",
    "    test_sentences = test.tweet.values\n",
    "    test_labels = test.label.values"
   ]
  },
  {
   "cell_type": "code",
   "execution_count": 5,
   "metadata": {
    "colab": {
     "base_uri": "https://localhost:8080/",
     "height": 67,
     "referenced_widgets": [
      "36e6d5b0a982469b96ba5231bca54944",
      "5092a5c313774c489cfc1faf46af073b",
      "6745467bf8484c92bc08bfbb00c97bc6",
      "807a3591926d4c11935e06fbf3bb7e17",
      "bbab8d198b2147d1a9a2eb4363441f1d",
      "633b312887a94ebbad30f5cec8111eb2",
      "8bb8e749896642d8bdfeea29cd18f146",
      "f0fa04f0498f4a53832f15137089f7d2"
     ]
    },
    "colab_type": "code",
    "id": "5U144zgOf0yY",
    "outputId": "2f63ae09-d68e-4253-f32f-a770d6f78a7b"
   },
   "outputs": [],
   "source": [
    "max_length = 128\n",
    "if model_name == \"BERT\":\n",
    "    tokenizer = BertTokenizer.from_pretrained('bert-base-uncased', do_lower_case=True)\n",
    "elif model_name == \"gpt2\":\n",
    "    tokenizer = GPT2Tokenizer.from_pretrained('gpt2', do_lower_case=True)\n",
    "    \n",
    "train_input_ids = [tokenizer.encode(sent) for sent in train_sentences]\n",
    "test_input_ids = [tokenizer.encode(sent) for sent in test_sentences]"
   ]
  },
  {
   "cell_type": "code",
   "execution_count": 6,
   "metadata": {
    "colab": {
     "base_uri": "https://localhost:8080/",
     "height": 35
    },
    "colab_type": "code",
    "id": "ka9G8anEf0yj",
    "outputId": "130ce8c7-bd2c-4dab-fb8a-7a6212d740db"
   },
   "outputs": [],
   "source": [
    "from keras.preprocessing.sequence import pad_sequences\n",
    "MAX_LEN = 128\n",
    "train_input_ids = pad_sequences(train_input_ids, maxlen=MAX_LEN, dtype=\"long\", truncating=\"post\", padding=\"post\")\n",
    "test_input_ids = pad_sequences(test_input_ids, maxlen=MAX_LEN, dtype=\"long\", truncating=\"post\", padding=\"post\")"
   ]
  },
  {
   "cell_type": "code",
   "execution_count": 7,
   "metadata": {
    "colab": {},
    "colab_type": "code",
    "id": "GoghW--1f0yu"
   },
   "outputs": [],
   "source": [
    "train_inputs = torch.tensor(train_input_ids).cuda()\n",
    "train_labels = torch.tensor(train_labels).cuda()\n",
    "\n",
    "test_inputs = torch.tensor(test_input_ids).cuda()\n",
    "test_labels = torch.tensor(test_labels).cuda()"
   ]
  },
  {
   "cell_type": "markdown",
   "metadata": {
    "colab_type": "text",
    "id": "Lq3c6LLjf0y3"
   },
   "source": [
    "### Create the generators"
   ]
  },
  {
   "cell_type": "code",
   "execution_count": 8,
   "metadata": {
    "colab": {},
    "colab_type": "code",
    "id": "XPSoDlhFf0y6"
   },
   "outputs": [],
   "source": [
    "from torch.utils.data import (DataLoader, RandomSampler, TensorDataset)\n",
    "batch_size = 8\n",
    "train_data = TensorDataset(train_inputs, train_labels)\n",
    "train_sampler = RandomSampler(train_data)\n",
    "train_dataloader = DataLoader(train_data, sampler=train_sampler, batch_size=batch_size)\n",
    "\n",
    "test_data = TensorDataset(test_inputs, test_labels)\n",
    "test_sampler = RandomSampler(test_data)\n",
    "test_dataloader = DataLoader(test_data, sampler=test_sampler, batch_size=batch_size)"
   ]
  },
  {
   "cell_type": "markdown",
   "metadata": {
    "colab_type": "text",
    "id": "zZK6ozonf0zG"
   },
   "source": [
    "### Model and parameters"
   ]
  },
  {
   "cell_type": "code",
   "execution_count": 9,
   "metadata": {
    "colab": {
     "base_uri": "https://localhost:8080/",
     "height": 478
    },
    "colab_type": "code",
    "id": "rGZiMNkCf0zI",
    "outputId": "ca034f38-26c0-41f8-923f-7a8a60ca65f9"
   },
   "outputs": [
    {
     "name": "stderr",
     "output_type": "stream",
     "text": [
      "/home/test/anaconda3/envs/bots/lib/python3.8/site-packages/torch/serialization.py:657: SourceChangeWarning: source code of class 'torch.nn.modules.sparse.Embedding' has changed. you can retrieve the original source code by accessing the object's source attribute or set `torch.nn.Module.dump_patches = True` and use the patch tool to revert the changes.\n",
      "  warnings.warn(msg, SourceChangeWarning)\n",
      "/home/test/anaconda3/envs/bots/lib/python3.8/site-packages/torch/serialization.py:657: SourceChangeWarning: source code of class 'torch.nn.modules.normalization.LayerNorm' has changed. you can retrieve the original source code by accessing the object's source attribute or set `torch.nn.Module.dump_patches = True` and use the patch tool to revert the changes.\n",
      "  warnings.warn(msg, SourceChangeWarning)\n",
      "/home/test/anaconda3/envs/bots/lib/python3.8/site-packages/torch/serialization.py:657: SourceChangeWarning: source code of class 'torch.nn.modules.dropout.Dropout' has changed. you can retrieve the original source code by accessing the object's source attribute or set `torch.nn.Module.dump_patches = True` and use the patch tool to revert the changes.\n",
      "  warnings.warn(msg, SourceChangeWarning)\n",
      "/home/test/anaconda3/envs/bots/lib/python3.8/site-packages/torch/serialization.py:657: SourceChangeWarning: source code of class 'torch.nn.modules.container.ModuleList' has changed. you can retrieve the original source code by accessing the object's source attribute or set `torch.nn.Module.dump_patches = True` and use the patch tool to revert the changes.\n",
      "  warnings.warn(msg, SourceChangeWarning)\n",
      "/home/test/anaconda3/envs/bots/lib/python3.8/site-packages/torch/serialization.py:657: SourceChangeWarning: source code of class 'torch.nn.modules.linear.Linear' has changed. you can retrieve the original source code by accessing the object's source attribute or set `torch.nn.Module.dump_patches = True` and use the patch tool to revert the changes.\n",
      "  warnings.warn(msg, SourceChangeWarning)\n",
      "/home/test/anaconda3/envs/bots/lib/python3.8/site-packages/torch/serialization.py:657: SourceChangeWarning: source code of class 'torch.nn.modules.activation.Tanh' has changed. you can retrieve the original source code by accessing the object's source attribute or set `torch.nn.Module.dump_patches = True` and use the patch tool to revert the changes.\n",
      "  warnings.warn(msg, SourceChangeWarning)\n"
     ]
    }
   ],
   "source": [
    "if model_name == \"BERT\":\n",
    "    model = torch.load('../models/BERT_Classifier_Large.pt')\n",
    "elif model_name == \"gpt2\":\n",
    "    model = torch.load('../models/Gpt2_Classifier_Large.pt')"
   ]
  },
  {
   "cell_type": "markdown",
   "metadata": {
    "colab_type": "text",
    "id": "n2So709zIGik"
   },
   "source": [
    "Choose either if you want to use all the embeddings of the first embedding layer, or just the last token embedding (for GPT2), or BERT (first token)"
   ]
  },
  {
   "cell_type": "code",
   "execution_count": 10,
   "metadata": {
    "colab": {},
    "colab_type": "code",
    "id": "5QGr6g07f0zV"
   },
   "outputs": [],
   "source": [
    "linear = nn.Linear(98304, 2).to(torch.device(\"cuda:0\")) #98304 = 128*768"
   ]
  },
  {
   "cell_type": "code",
   "execution_count": 11,
   "metadata": {
    "colab": {},
    "colab_type": "code",
    "id": "W_q7MAYnf0zg"
   },
   "outputs": [],
   "source": [
    "param_optimizer = list(linear.named_parameters())\n",
    "no_decay = ['bias', 'gamma', 'beta']\n",
    "optimizer_grouped_parameters = [\n",
    "    {'params': [p for n, p in param_optimizer if not any(nd in n for nd in no_decay)],\n",
    "     'weight_decay_rate': 0.01},\n",
    "    {'params': [p for n, p in param_optimizer if any(nd in n for nd in no_decay)],\n",
    "     'weight_decay_rate': 0.0}\n",
    "]\n",
    "\n",
    "optimizer = AdamW(optimizer_grouped_parameters,\n",
    "                     lr=2e-5,)"
   ]
  },
  {
   "cell_type": "markdown",
   "metadata": {
    "colab_type": "text",
    "id": "mxAG65Z_f0zn"
   },
   "source": [
    "## Training"
   ]
  },
  {
   "cell_type": "code",
   "execution_count": 14,
   "metadata": {
    "colab": {},
    "colab_type": "code",
    "id": "AvslmXOufaDA"
   },
   "outputs": [],
   "source": [
    "#input_ids=train_inputs[0].unsqueeze(0)\n",
    "if model_name==\"BERT\":\n",
    "    model.bert.config.output_hidden_states = True\n",
    "    model.bert.config.is_decoder = False\n",
    "    model.bert.encoder.output_hidden_states = True\n",
    "    for i in range(0,len(model.bert.encoder.layer)): \n",
    "        model.bert.encoder.layer[i].is_decoder = False\n",
    "        model.bert.encoder.layer[i].output_hidden_states = True\n",
    "else:\n",
    "    model.transformer.output_hidden_states = True"
   ]
  },
  {
   "cell_type": "code",
   "execution_count": 17,
   "metadata": {
    "colab": {
     "base_uri": "https://localhost:8080/",
     "height": 35
    },
    "colab_type": "code",
    "id": "usZQSqqZf0z0",
    "outputId": "35d71e4b-d810-49b0-da8e-d96ab1b6db17"
   },
   "outputs": [
    {
     "name": "stderr",
     "output_type": "stream",
     "text": [
      "Epoch:   0%|          | 0/2 [00:00<?, ?it/s]/opt/conda/conda-bld/pytorch_1591914743399/work/torch/csrc/utils/python_arg_parser.cpp:756: UserWarning: This overload of add_ is deprecated:\n",
      "\tadd_(Number alpha, Tensor other)\n",
      "Consider using one of the following signatures instead:\n",
      "\tadd_(Tensor other, *, Number alpha)\n",
      "Epoch: 100%|██████████| 2/2 [06:39<00:00, 199.68s/it]\n"
     ]
    }
   ],
   "source": [
    "# Store our loss and accuracy for plotting\n",
    "train_loss_set = []\n",
    "\n",
    "# Number of training epochs (authors recommend between 2 and 4)\n",
    "epochs = 2\n",
    "\n",
    "# trange is a tqdm wrapper around the normal python range\n",
    "for _ in trange(epochs, desc=\"Epoch\"):\n",
    "  # Training\n",
    "  \n",
    "  # Set our model to training mode (as opposed to evaluation mode)\n",
    "  linear.train()\n",
    "    \n",
    "  for step, batch in enumerate(train_dataloader):\n",
    "    # Add batch to GPU\n",
    "    batch = tuple(t.to(device) for t in batch)\n",
    "    # Unpack the inputs from our dataloader\n",
    "    b_input_ids, b_labels = batch\n",
    "    optimizer.zero_grad()\n",
    "    if(model_name==\"gpt2\"):\n",
    "        outputs = model.transformer(b_input_ids)\n",
    "        h0 = outputs[3][0] ## Here we are using embeddings layer \n",
    "        logits = linear(h0.view(-1,98304)) ## We flat the embeddings\n",
    "    else:\n",
    "        h0 = model.bert.embeddings(b_input_ids)\n",
    "        logits = linear(h0.view(-1,98304))\n",
    "        \n",
    "    loss_fct = CrossEntropyLoss()\n",
    "    loss=loss_fct(logits.view(-1, logits.size(-1)),\n",
    "                            b_labels.view(-1))\n",
    "    train_loss_set.append(loss.item())\n",
    "    loss.backward()\n",
    "    optimizer.step()"
   ]
  },
  {
   "cell_type": "markdown",
   "metadata": {
    "colab_type": "text",
    "id": "BaQQK8Ucf00C"
   },
   "source": [
    "### Learning curve"
   ]
  },
  {
   "cell_type": "code",
   "execution_count": 18,
   "metadata": {
    "colab": {
     "base_uri": "https://localhost:8080/",
     "height": 513
    },
    "colab_type": "code",
    "id": "W4vnVktNf00J",
    "outputId": "e4e00720-2b81-4538-d649-92966181d0b4"
   },
   "outputs": [
    {
     "data": {
      "image/png": "[encoded data removed]",
      "text/plain": [
       "<Figure size 1440x576 with 1 Axes>"
      ]
     },
     "metadata": {
      "needs_background": "light"
     },
     "output_type": "display_data"
    }
   ],
   "source": [
    "import matplotlib.pyplot as plt\n",
    "\n",
    "plt.figure(figsize=(20,8))\n",
    "plt.title(\"Training loss\")\n",
    "plt.xlabel(\"Batch\")\n",
    "plt.ylabel(\"Loss\")\n",
    "plt.plot(train_loss_set)\n",
    "plt.show()"
   ]
  },
  {
   "cell_type": "markdown",
   "metadata": {
    "colab_type": "text",
    "id": "Ph0_tNm5f00X"
   },
   "source": [
    "## Evaluation."
   ]
  },
  {
   "cell_type": "code",
   "execution_count": 19,
   "metadata": {
    "colab": {
     "base_uri": "https://localhost:8080/",
     "height": 1000
    },
    "colab_type": "code",
    "id": "NdcOP_1Df00b",
    "outputId": "a3be48df-52a2-4a98-82bd-e49d5cedcd74"
   },
   "outputs": [
    {
     "name": "stdout",
     "output_type": "stream",
     "text": [
      "Processing:  0.0 %\n",
      "Processing:  1.0 %\n",
      "Processing:  2.0 %\n",
      "Processing:  3.0 %\n",
      "Processing:  4.0 %\n",
      "Processing:  5.0 %\n",
      "Processing:  6.0 %\n",
      "Processing:  7.0 %\n",
      "Processing:  8.0 %\n",
      "Processing:  9.0 %\n",
      "Processing:  10.0 %\n",
      "Processing:  11.0 %\n",
      "Processing:  12.0 %\n",
      "Processing:  13.0 %\n",
      "Processing:  14.0 %\n",
      "Processing:  15.0 %\n",
      "Processing:  16.0 %\n",
      "Processing:  17.0 %\n",
      "Processing:  18.0 %\n",
      "Processing:  19.0 %\n",
      "Processing:  20.0 %\n",
      "Processing:  21.0 %\n",
      "Processing:  22.0 %\n",
      "Processing:  23.0 %\n",
      "Processing:  24.0 %\n",
      "Processing:  25.0 %\n",
      "Processing:  26.0 %\n",
      "Processing:  27.0 %\n",
      "Processing:  28.0 %\n",
      "Processing:  29.0 %\n",
      "Processing:  30.0 %\n",
      "Processing:  31.0 %\n",
      "Processing:  32.0 %\n",
      "Processing:  33.0 %\n",
      "Processing:  34.0 %\n",
      "Processing:  35.0 %\n",
      "Processing:  36.0 %\n",
      "Processing:  37.0 %\n",
      "Processing:  38.0 %\n",
      "Processing:  39.0 %\n",
      "Processing:  40.0 %\n",
      "Processing:  41.0 %\n",
      "Processing:  42.0 %\n",
      "Processing:  43.0 %\n",
      "Processing:  44.0 %\n",
      "Processing:  45.0 %\n",
      "Processing:  46.0 %\n",
      "Processing:  47.0 %\n",
      "Processing:  48.0 %\n",
      "Processing:  49.0 %\n",
      "Processing:  50.0 %\n",
      "Processing:  51.0 %\n",
      "Processing:  52.0 %\n",
      "Processing:  53.0 %\n",
      "Processing:  54.0 %\n",
      "Processing:  55.0 %\n",
      "Processing:  56.0 %\n",
      "Processing:  57.0 %\n",
      "Processing:  58.0 %\n",
      "Processing:  59.0 %\n",
      "Processing:  60.0 %\n",
      "Processing:  61.0 %\n",
      "Processing:  62.0 %\n",
      "Processing:  63.0 %\n",
      "Processing:  64.0 %\n",
      "Processing:  65.0 %\n",
      "Processing:  66.0 %\n",
      "Processing:  67.0 %\n",
      "Processing:  68.0 %\n",
      "Processing:  69.0 %\n",
      "Processing:  70.0 %\n",
      "Processing:  71.0 %\n",
      "Processing:  72.0 %\n",
      "Processing:  73.0 %\n",
      "Processing:  74.0 %\n",
      "Processing:  75.0 %\n",
      "Processing:  76.0 %\n",
      "Processing:  77.0 %\n",
      "Processing:  78.0 %\n",
      "Processing:  79.0 %\n",
      "Processing:  80.0 %\n",
      "Processing:  81.0 %\n",
      "Processing:  82.0 %\n",
      "Processing:  83.0 %\n",
      "Processing:  84.0 %\n",
      "Processing:  85.0 %\n",
      "Processing:  86.0 %\n",
      "Processing:  87.0 %\n",
      "Processing:  88.0 %\n",
      "Processing:  89.0 %\n",
      "Processing:  90.0 %\n",
      "Processing:  91.0 %\n",
      "Processing:  92.0 %\n",
      "Processing:  93.0 %\n",
      "Processing:  94.0 %\n",
      "Processing:  95.0 %\n",
      "Processing:  96.0 %\n",
      "Processing:  97.0 %\n",
      "Processing:  98.0 %\n",
      "Processing:  99.0 %\n"
     ]
    }
   ],
   "source": [
    "preds = []\n",
    "\n",
    "for i in range(int(len(test_inputs)/10)):\n",
    "    batch = (test_inputs[i*10: (i+1)*10].to(device))\n",
    "    with torch.no_grad():\n",
    "        if(model_name==\"gpt2\"):\n",
    "            outputs = model(batch)\n",
    "            h0 = outputs[3][0]\n",
    "            logits = linear(h0.view(-1,98304))\n",
    "        else:\n",
    "            h0 = model.bert.embeddings(batch)\n",
    "            logits = linear(h0.view(-1,98304))\n",
    "    \n",
    "    logits = logits.detach().cpu().numpy()\n",
    "    preds.append(logits)\n",
    "    if i%100 == 0:\n",
    "        print(\"Processing: \", i*10/1000, \"%\")"
   ]
  },
  {
   "cell_type": "markdown",
   "metadata": {
    "colab_type": "text",
    "id": "4npO0xQjX_0j"
   },
   "source": [
    "### BERT Results"
   ]
  },
  {
   "cell_type": "code",
   "execution_count": null,
   "metadata": {
    "colab": {
     "base_uri": "https://localhost:8080/",
     "height": 201
    },
    "colab_type": "code",
    "id": "GAmLhPjGf00j",
    "outputId": "d14f73ef-2211-42a6-f722-09d7cd1f1707"
   },
   "outputs": [
    {
     "name": "stdout",
     "output_type": "stream",
     "text": [
      "              precision    recall  f1-score   support\n",
      "\n",
      "           0     0.7517    0.7779    0.7646     55712\n",
      "           1     0.7078    0.6768    0.6920     44288\n",
      "\n",
      "    accuracy                         0.7331    100000\n",
      "   macro avg     0.7298    0.7274    0.7283    100000\n",
      "weighted avg     0.7323    0.7331    0.7324    100000\n",
      "\n",
      "Accuracy:  0.73313\n"
     ]
    }
   ],
   "source": [
    "from sklearn.metrics import classification_report\n",
    "from sklearn.metrics import accuracy_score\n",
    "predictions = []\n",
    "for pred in preds:\n",
    "    p = np.argmax(pred, axis = 1)\n",
    "    for label in p:\n",
    "        predictions.append(label)\n",
    "print(classification_report(np.asarray(test[\"label\"][:len(predictions)]), predictions, digits = 4))\n",
    "print(\"Accuracy: \", accuracy_score(np.asarray(test[\"label\"][:len(predictions)]), predictions))"
   ]
  },
  {
   "cell_type": "markdown",
   "metadata": {
    "colab_type": "text",
    "id": "2Z1fnqaUYJBP"
   },
   "source": [
    "### OpenAI GPT2 Results"
   ]
  },
  {
   "cell_type": "code",
   "execution_count": null,
   "metadata": {
    "colab": {
     "base_uri": "https://localhost:8080/",
     "height": 203
    },
    "colab_type": "code",
    "id": "vdgQ5ZA5X98C",
    "outputId": "fa1ea9ce-67ea-4c02-9791-3eec7f9cf385"
   },
   "outputs": [
    {
     "name": "stdout",
     "output_type": "stream",
     "text": [
      "              precision    recall  f1-score   support\n",
      "\n",
      "           0     0.7776    0.6625    0.7154     55712\n",
      "           1     0.6420    0.7616    0.6967     44288\n",
      "\n",
      "    accuracy                         0.7064    100000\n",
      "   macro avg     0.7098    0.7120    0.7061    100000\n",
      "weighted avg     0.7175    0.7064    0.7071    100000\n",
      "\n",
      "Accuracy:  0.70637\n"
     ]
    }
   ],
   "source": [
    "from sklearn.metrics import classification_report\n",
    "from sklearn.metrics import accuracy_score\n",
    "predictions = []\n",
    "for pred in preds:\n",
    "    p = np.argmax(pred, axis = 1)\n",
    "    for label in p:\n",
    "        predictions.append(label)\n",
    "print(classification_report(np.asarray(test[\"label\"][:len(predictions)]), predictions, digits = 4))\n",
    "print(\"Accuracy: \", accuracy_score(np.asarray(test[\"label\"][:len(predictions)]), predictions))"
   ]
  }
 ],
 "metadata": {
  "accelerator": "GPU",
  "colab": {
   "collapsed_sections": [],
   "name": "GPT2-vs-BERT-in-bot-detection.ipynb",
   "provenance": [],
   "toc_visible": true
  },
  "kernelspec": {
   "display_name": "bots",
   "language": "python",
   "name": "bots"
  },
  "language_info": {
   "codemirror_mode": {
    "name": "ipython",
    "version": 3
   },
   "file_extension": ".py",
   "mimetype": "text/x-python",
   "name": "python",
   "nbconvert_exporter": "python",
   "pygments_lexer": "ipython3",
   "version": "3.8.3"
  },
  "widgets": {
   "application/vnd.jupyter.widget-state+json": {
    "36e6d5b0a982469b96ba5231bca54944": {
     "model_module": "@jupyter-widgets/controls",
     "model_name": "HBoxModel",
     "state": {
      "_dom_classes": [],
      "_model_module": "@jupyter-widgets/controls",
      "_model_module_version": "1.5.0",
      "_model_name": "HBoxModel",
      "_view_count": null,
      "_view_module": "@jupyter-widgets/controls",
      "_view_module_version": "1.5.0",
      "_view_name": "HBoxView",
      "box_style": "",
      "children": [
       "IPY_MODEL_6745467bf8484c92bc08bfbb00c97bc6",
       "IPY_MODEL_807a3591926d4c11935e06fbf3bb7e17"
      ],
      "layout": "IPY_MODEL_5092a5c313774c489cfc1faf46af073b"
     }
    },
    "5092a5c313774c489cfc1faf46af073b": {
     "model_module": "@jupyter-widgets/base",
     "model_name": "LayoutModel",
     "state": {
      "_model_module": "@jupyter-widgets/base",
      "_model_module_version": "1.2.0",
      "_model_name": "LayoutModel",
      "_view_count": null,
      "_view_module": "@jupyter-widgets/base",
      "_view_module_version": "1.2.0",
      "_view_name": "LayoutView",
      "align_content": null,
      "align_items": null,
      "align_self": null,
      "border": null,
      "bottom": null,
      "display": null,
      "flex": null,
      "flex_flow": null,
      "grid_area": null,
      "grid_auto_columns": null,
      "grid_auto_flow": null,
      "grid_auto_rows": null,
      "grid_column": null,
      "grid_gap": null,
      "grid_row": null,
      "grid_template_areas": null,
      "grid_template_columns": null,
      "grid_template_rows": null,
      "height": null,
      "justify_content": null,
      "justify_items": null,
      "left": null,
      "margin": null,
      "max_height": null,
      "max_width": null,
      "min_height": null,
      "min_width": null,
      "object_fit": null,
      "object_position": null,
      "order": null,
      "overflow": null,
      "overflow_x": null,
      "overflow_y": null,
      "padding": null,
      "right": null,
      "top": null,
      "visibility": null,
      "width": null
     }
    },
    "633b312887a94ebbad30f5cec8111eb2": {
     "model_module": "@jupyter-widgets/base",
     "model_name": "LayoutModel",
     "state": {
      "_model_module": "@jupyter-widgets/base",
      "_model_module_version": "1.2.0",
      "_model_name": "LayoutModel",
      "_view_count": null,
      "_view_module": "@jupyter-widgets/base",
      "_view_module_version": "1.2.0",
      "_view_name": "LayoutView",
      "align_content": null,
      "align_items": null,
      "align_self": null,
      "border": null,
      "bottom": null,
      "display": null,
      "flex": null,
      "flex_flow": null,
      "grid_area": null,
      "grid_auto_columns": null,
      "grid_auto_flow": null,
      "grid_auto_rows": null,
      "grid_column": null,
      "grid_gap": null,
      "grid_row": null,
      "grid_template_areas": null,
      "grid_template_columns": null,
      "grid_template_rows": null,
      "height": null,
      "justify_content": null,
      "justify_items": null,
      "left": null,
      "margin": null,
      "max_height": null,
      "max_width": null,
      "min_height": null,
      "min_width": null,
      "object_fit": null,
      "object_position": null,
      "order": null,
      "overflow": null,
      "overflow_x": null,
      "overflow_y": null,
      "padding": null,
      "right": null,
      "top": null,
      "visibility": null,
      "width": null
     }
    },
    "6745467bf8484c92bc08bfbb00c97bc6": {
     "model_module": "@jupyter-widgets/controls",
     "model_name": "IntProgressModel",
     "state": {
      "_dom_classes": [],
      "_model_module": "@jupyter-widgets/controls",
      "_model_module_version": "1.5.0",
      "_model_name": "IntProgressModel",
      "_view_count": null,
      "_view_module": "@jupyter-widgets/controls",
      "_view_module_version": "1.5.0",
      "_view_name": "ProgressView",
      "bar_style": "success",
      "description": "Downloading",
      "description_tooltip": null,
      "layout": "IPY_MODEL_633b312887a94ebbad30f5cec8111eb2",
      "max": 231508,
      "min": 0,
      "orientation": "horizontal",
      "style": "IPY_MODEL_bbab8d198b2147d1a9a2eb4363441f1d",
      "value": 231508
     }
    },
    "807a3591926d4c11935e06fbf3bb7e17": {
     "model_module": "@jupyter-widgets/controls",
     "model_name": "HTMLModel",
     "state": {
      "_dom_classes": [],
      "_model_module": "@jupyter-widgets/controls",
      "_model_module_version": "1.5.0",
      "_model_name": "HTMLModel",
      "_view_count": null,
      "_view_module": "@jupyter-widgets/controls",
      "_view_module_version": "1.5.0",
      "_view_name": "HTMLView",
      "description": "",
      "description_tooltip": null,
      "layout": "IPY_MODEL_f0fa04f0498f4a53832f15137089f7d2",
      "placeholder": "​",
      "style": "IPY_MODEL_8bb8e749896642d8bdfeea29cd18f146",
      "value": "100% 232k/232k [00:00&lt;00:00, 898kB/s]"
     }
    },
    "8bb8e749896642d8bdfeea29cd18f146": {
     "model_module": "@jupyter-widgets/controls",
     "model_name": "DescriptionStyleModel",
     "state": {
      "_model_module": "@jupyter-widgets/controls",
      "_model_module_version": "1.5.0",
      "_model_name": "DescriptionStyleModel",
      "_view_count": null,
      "_view_module": "@jupyter-widgets/base",
      "_view_module_version": "1.2.0",
      "_view_name": "StyleView",
      "description_width": ""
     }
    },
    "bbab8d198b2147d1a9a2eb4363441f1d": {
     "model_module": "@jupyter-widgets/controls",
     "model_name": "ProgressStyleModel",
     "state": {
      "_model_module": "@jupyter-widgets/controls",
      "_model_module_version": "1.5.0",
      "_model_name": "ProgressStyleModel",
      "_view_count": null,
      "_view_module": "@jupyter-widgets/base",
      "_view_module_version": "1.2.0",
      "_view_name": "StyleView",
      "bar_color": null,
      "description_width": "initial"
     }
    },
    "f0fa04f0498f4a53832f15137089f7d2": {
     "model_module": "@jupyter-widgets/base",
     "model_name": "LayoutModel",
     "state": {
      "_model_module": "@jupyter-widgets/base",
      "_model_module_version": "1.2.0",
      "_model_name": "LayoutModel",
      "_view_count": null,
      "_view_module": "@jupyter-widgets/base",
      "_view_module_version": "1.2.0",
      "_view_name": "LayoutView",
      "align_content": null,
      "align_items": null,
      "align_self": null,
      "border": null,
      "bottom": null,
      "display": null,
      "flex": null,
      "flex_flow": null,
      "grid_area": null,
      "grid_auto_columns": null,
      "grid_auto_flow": null,
      "grid_auto_rows": null,
      "grid_column": null,
      "grid_gap": null,
      "grid_row": null,
      "grid_template_areas": null,
      "grid_template_columns": null,
      "grid_template_rows": null,
      "height": null,
      "justify_content": null,
      "justify_items": null,
      "left": null,
      "margin": null,
      "max_height": null,
      "max_width": null,
      "min_height": null,
      "min_width": null,
      "object_fit": null,
      "object_position": null,
      "order": null,
      "overflow": null,
      "overflow_x": null,
      "overflow_y": null,
      "padding": null,
      "right": null,
      "top": null,
      "visibility": null,
      "width": null
     }
    }
   }
  }
 },
 "nbformat": 4,
 "nbformat_minor": 2
}
