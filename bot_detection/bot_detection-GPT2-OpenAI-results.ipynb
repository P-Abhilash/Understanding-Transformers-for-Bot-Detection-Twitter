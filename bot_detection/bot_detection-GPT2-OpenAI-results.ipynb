{
 "cells": [
  {
   "cell_type": "code",
   "execution_count": 1,
   "metadata": {},
   "outputs": [],
   "source": [
    "import pandas as pd\n",
    "import numpy as np\n",
    "from sklearn.metrics import classification_report, f1_score, precision_score, recall_score, accuracy_score"
   ]
  },
  {
   "cell_type": "code",
   "execution_count": 3,
   "metadata": {},
   "outputs": [],
   "source": [
    "with open('../data/bot_detection/stsa.binary.test','r') as f:\n",
    "    content = f.readlines()\n",
    "labels = np.array([int(x.split(\" \")[0]) for x in content])"
   ]
  },
  {
   "cell_type": "code",
   "execution_count": 4,
   "metadata": {},
   "outputs": [],
   "source": [
    "pred=pd.read_csv('submission_gpt2/sst',sep=\"\\t\")"
   ]
  },
  {
   "cell_type": "code",
   "execution_count": 5,
   "metadata": {},
   "outputs": [],
   "source": [
    "pred = pred.prediction.values"
   ]
  },
  {
   "cell_type": "code",
   "execution_count": 6,
   "metadata": {},
   "outputs": [
    {
     "data": {
      "text/plain": [
       "array([1, 0, 1, ..., 0, 1, 1])"
      ]
     },
     "execution_count": 6,
     "metadata": {},
     "output_type": "execute_result"
    }
   ],
   "source": [
    "pred"
   ]
  },
  {
   "cell_type": "code",
   "execution_count": 7,
   "metadata": {},
   "outputs": [
    {
     "name": "stdout",
     "output_type": "stream",
     "text": [
      "              precision    recall  f1-score   support\n",
      "\n",
      "           0       0.86      0.92      0.89     55712\n",
      "           1       0.89      0.81      0.84     44288\n",
      "\n",
      "    accuracy                           0.87    100000\n",
      "   macro avg       0.87      0.86      0.86    100000\n",
      "weighted avg       0.87      0.87      0.87    100000\n",
      "\n",
      "Precision: 0.8687 \n",
      "Recall: 0.8675 \n",
      "F1 Score: 0.8667 \n"
     ]
    }
   ],
   "source": [
    "print(classification_report(labels, pred))\n",
    "print(\"Precision: %.4f \" % precision_score(labels, pred, average=\"weighted\"))\n",
    "print(\"Recall: %.4f \" % recall_score(labels, pred, average=\"weighted\"))\n",
    "print(\"F1 Score: %.4f \" % f1_score(labels, pred, average=\"weighted\"))"
   ]
  }
 ],
 "metadata": {
  "kernelspec": {
   "display_name": "bots",
   "language": "python",
   "name": "bots"
  },
  "language_info": {
   "codemirror_mode": {
    "name": "ipython",
    "version": 3
   },
   "file_extension": ".py",
   "mimetype": "text/x-python",
   "name": "python",
   "nbconvert_exporter": "python",
   "pygments_lexer": "ipython3",
   "version": "3.8.3"
  }
 },
 "nbformat": 4,
 "nbformat_minor": 2
}
