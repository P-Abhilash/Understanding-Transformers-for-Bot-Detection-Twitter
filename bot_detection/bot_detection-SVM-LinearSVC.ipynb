{
 "cells": [
  {
   "cell_type": "code",
   "execution_count": 2,
   "metadata": {},
   "outputs": [],
   "source": [
    "import pandas as pd\n",
    "from sklearn.pipeline import Pipeline\n",
    "from sklearn.feature_extraction.text import TfidfVectorizer\n",
    "from sklearn.svm import LinearSVC\n",
    "from nltk.corpus import stopwords\n",
    "stop_words = set(stopwords.words('english'))\n",
    "from sklearn.model_selection import GridSearchCV\n",
    "from sklearn.metrics import classification_report, accuracy_score, f1_score"
   ]
  },
  {
   "cell_type": "markdown",
   "metadata": {
    "colab_type": "text",
    "id": "QLeh7oZgf0xl"
   },
   "source": [
    "## Load Dataset"
   ]
  },
  {
   "cell_type": "code",
   "execution_count": 3,
   "metadata": {
    "colab": {},
    "colab_type": "code",
    "id": "tCsb_Ws2f0x2"
   },
   "outputs": [],
   "source": [
    "directory = '../data/bot_detection/'\n",
    "train = pd.read_csv(directory + \"train.csv\", header=None)\n",
    "test = pd.read_csv(directory + \"test.csv\", header=None)\n",
    "\n",
    "train = pd.DataFrame({\n",
    "    'id':range(len(train)),\n",
    "    'label':train[0],\n",
    "    'mark':['a']*train.shape[0],\n",
    "    'text': train[1].replace(r'\\n', ' ', regex=True)\n",
    "})\n",
    "\n",
    "test = pd.DataFrame({\n",
    "    'id':range(len(test)),\n",
    "    'label':test[0],\n",
    "    'mark':['a']*test.shape[0],\n",
    "    'text': test[1].replace(r'\\n', ' ', regex=True)\n",
    "})\n",
    "\n",
    "train.columns = [\"index\", \"label\", \"mark\", \"tweet\"]\n",
    "test.columns =  [\"index\", \"label\", \"mark\", \"tweet\"]"
   ]
  },
  {
   "cell_type": "code",
   "execution_count": 4,
   "metadata": {},
   "outputs": [],
   "source": [
    "train_sentences = train.tweet.values\n",
    "train_labels = train.label.values\n",
    "test_sentences = test.tweet.values\n",
    "test_labels = test.label.values"
   ]
  },
  {
   "cell_type": "code",
   "execution_count": 5,
   "metadata": {},
   "outputs": [
    {
     "name": "stdout",
     "output_type": "stream",
     "text": [
      ": Best parameters set found on development set:\n",
      "{'clf__C': 1}\n"
     ]
    }
   ],
   "source": [
    "tuned_parameters = [{'clf__C': [1, 10, 100, 1000]}]\n",
    "textclf = Pipeline([('tfidf', TfidfVectorizer(stop_words=stop_words)), ('clf', LinearSVC())])\n",
    "clf = GridSearchCV(textclf, tuned_parameters, scoring='f1_macro', n_jobs = -1)\n",
    "clf.fit(train_sentences, train_labels)\n",
    "print(\": Best parameters set found on development set:\")\n",
    "print(clf.best_params_)\n",
    "# predict the labels on validation dataset\n"
   ]
  },
  {
   "cell_type": "code",
   "execution_count": 49,
   "metadata": {},
   "outputs": [
    {
     "name": "stdout",
     "output_type": "stream",
     "text": [
      "              precision    recall  f1-score   support\n",
      "\n",
      "           0     0.8264    0.8185    0.8224     55712\n",
      "           1     0.7744    0.7837    0.7790     44288\n",
      "\n",
      "    accuracy                         0.8031    100000\n",
      "   macro avg     0.8004    0.8011    0.8007    100000\n",
      "weighted avg     0.8033    0.8031    0.8032    100000\n",
      "\n",
      "SVM:  80.306\n",
      "SVM:  77.89872963145845\n"
     ]
    }
   ],
   "source": [
    "predictions = clf.predict(test_sentences)\n",
    "print(classification_report(test_labels, predictions, digits = 4))\n",
    "# Use accuracy_score function to get the accuracy\n",
    "acc = accuracy_score(test_labels, predictions)*100\n",
    "f1 = f1_score(test_labels, predictions)*100\n",
    "print(\"SVM: \", acc)\n",
    "print(\"SVM: \", f1)"
   ]
  },
  {
   "cell_type": "code",
   "execution_count": 52,
   "metadata": {},
   "outputs": [
    {
     "data": {
      "text/html": [
       "<div>\n",
       "<style scoped>\n",
       "    .dataframe tbody tr th:only-of-type {\n",
       "        vertical-align: middle;\n",
       "    }\n",
       "\n",
       "    .dataframe tbody tr th {\n",
       "        vertical-align: top;\n",
       "    }\n",
       "\n",
       "    .dataframe thead th {\n",
       "        text-align: right;\n",
       "    }\n",
       "</style>\n",
       "<table border=\"1\" class=\"dataframe\">\n",
       "  <thead>\n",
       "    <tr style=\"text-align: right;\">\n",
       "      <th></th>\n",
       "      <th>mean_fit_time</th>\n",
       "      <th>std_fit_time</th>\n",
       "      <th>mean_score_time</th>\n",
       "      <th>std_score_time</th>\n",
       "      <th>param_clf__C</th>\n",
       "      <th>params</th>\n",
       "      <th>split0_test_score</th>\n",
       "      <th>split1_test_score</th>\n",
       "      <th>split2_test_score</th>\n",
       "      <th>mean_test_score</th>\n",
       "      <th>std_test_score</th>\n",
       "      <th>rank_test_score</th>\n",
       "    </tr>\n",
       "  </thead>\n",
       "  <tbody>\n",
       "    <tr>\n",
       "      <td>0</td>\n",
       "      <td>18.985604</td>\n",
       "      <td>0.665977</td>\n",
       "      <td>5.498970</td>\n",
       "      <td>0.080077</td>\n",
       "      <td>1</td>\n",
       "      <td>{'clf__C': 1}</td>\n",
       "      <td>0.791132</td>\n",
       "      <td>0.790996</td>\n",
       "      <td>0.790571</td>\n",
       "      <td>0.790900</td>\n",
       "      <td>0.000239</td>\n",
       "      <td>1</td>\n",
       "    </tr>\n",
       "    <tr>\n",
       "      <td>1</td>\n",
       "      <td>88.793021</td>\n",
       "      <td>10.870773</td>\n",
       "      <td>7.315534</td>\n",
       "      <td>0.707599</td>\n",
       "      <td>10</td>\n",
       "      <td>{'clf__C': 10}</td>\n",
       "      <td>0.774503</td>\n",
       "      <td>0.774175</td>\n",
       "      <td>0.773177</td>\n",
       "      <td>0.773952</td>\n",
       "      <td>0.000564</td>\n",
       "      <td>2</td>\n",
       "    </tr>\n",
       "    <tr>\n",
       "      <td>2</td>\n",
       "      <td>154.858631</td>\n",
       "      <td>8.297325</td>\n",
       "      <td>5.433154</td>\n",
       "      <td>1.490428</td>\n",
       "      <td>100</td>\n",
       "      <td>{'clf__C': 100}</td>\n",
       "      <td>0.737833</td>\n",
       "      <td>0.739435</td>\n",
       "      <td>0.736937</td>\n",
       "      <td>0.738068</td>\n",
       "      <td>0.001033</td>\n",
       "      <td>3</td>\n",
       "    </tr>\n",
       "    <tr>\n",
       "      <td>3</td>\n",
       "      <td>150.103343</td>\n",
       "      <td>21.437671</td>\n",
       "      <td>2.608736</td>\n",
       "      <td>0.427760</td>\n",
       "      <td>1000</td>\n",
       "      <td>{'clf__C': 1000}</td>\n",
       "      <td>0.718770</td>\n",
       "      <td>0.720953</td>\n",
       "      <td>0.721344</td>\n",
       "      <td>0.720356</td>\n",
       "      <td>0.001132</td>\n",
       "      <td>4</td>\n",
       "    </tr>\n",
       "  </tbody>\n",
       "</table>\n",
       "</div>"
      ],
      "text/plain": [
       "   mean_fit_time  std_fit_time  mean_score_time  std_score_time param_clf__C  \\\n",
       "0      18.985604      0.665977         5.498970        0.080077            1   \n",
       "1      88.793021     10.870773         7.315534        0.707599           10   \n",
       "2     154.858631      8.297325         5.433154        1.490428          100   \n",
       "3     150.103343     21.437671         2.608736        0.427760         1000   \n",
       "\n",
       "             params  split0_test_score  split1_test_score  split2_test_score  \\\n",
       "0     {'clf__C': 1}           0.791132           0.790996           0.790571   \n",
       "1    {'clf__C': 10}           0.774503           0.774175           0.773177   \n",
       "2   {'clf__C': 100}           0.737833           0.739435           0.736937   \n",
       "3  {'clf__C': 1000}           0.718770           0.720953           0.721344   \n",
       "\n",
       "   mean_test_score  std_test_score  rank_test_score  \n",
       "0         0.790900        0.000239                1  \n",
       "1         0.773952        0.000564                2  \n",
       "2         0.738068        0.001033                3  \n",
       "3         0.720356        0.001132                4  "
      ]
     },
     "execution_count": 52,
     "metadata": {},
     "output_type": "execute_result"
    }
   ],
   "source": [
    "pd.DataFrame(clf.cv_results_)"
   ]
  },
  {
   "cell_type": "code",
   "execution_count": null,
   "metadata": {},
   "outputs": [],
   "source": []
  }
 ],
 "metadata": {
  "kernelspec": {
   "display_name": "bots",
   "language": "python",
   "name": "bots"
  },
  "language_info": {
   "codemirror_mode": {
    "name": "ipython",
    "version": 3
   },
   "file_extension": ".py",
   "mimetype": "text/x-python",
   "name": "python",
   "nbconvert_exporter": "python",
   "pygments_lexer": "ipython3",
   "version": "3.8.3"
  }
 },
 "nbformat": 4,
 "nbformat_minor": 2
}
